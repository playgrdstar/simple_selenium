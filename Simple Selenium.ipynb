{
 "cells": [
  {
   "cell_type": "markdown",
   "metadata": {},
   "source": [
    "## Simple Selenium ##"
   ]
  },
  {
   "cell_type": "markdown",
   "metadata": {},
   "source": [
    "It might be quite tricky sometimes just to get selenium up and running"
   ]
  },
  {
   "cell_type": "markdown",
   "metadata": {},
   "source": [
    "First, the commands in terminal to install and get the necessary drivers"
   ]
  },
  {
   "cell_type": "markdown",
   "metadata": {},
   "source": [
    "- brew install wget\n",
    "- wget https://github.com/mozilla/geckodriver/releases/download/v0.21.0/geckodriver-v0.21.0-linux64.tar.gz\n",
    "- tar xvfz geckodriver-v0.21.0-linux64.tar.gz\n",
    "- mv geckodriver ~/.local/bin"
   ]
  },
  {
   "cell_type": "markdown",
   "metadata": {},
   "source": [
    "Here, I have used version 21.0 of geckodriver for Mozilla, and version 61.0.2 for Firefox"
   ]
  },
  {
   "cell_type": "markdown",
   "metadata": {},
   "source": [
    "Sometimes, errors just occur because of mismatching versions, so a little trial and error may be required."
   ]
  },
  {
   "cell_type": "markdown",
   "metadata": {},
   "source": [
    "A good application of Selenium would be to use it to create a simple Instagram bot."
   ]
  },
  {
   "cell_type": "markdown",
   "metadata": {},
   "source": [
    "We first import the main library in selenium and import Firefox, which basically allows us to control the Firefox browser. We could also use Chrome, but that would also mean downloading a different geckodriver (and finding the right combination of Chrome and geckodriver that would work nice together)."
   ]
  },
  {
   "cell_type": "code",
   "execution_count": 1,
   "metadata": {
    "collapsed": true
   },
   "outputs": [],
   "source": [
    "from selenium.webdriver import Firefox"
   ]
  },
  {
   "cell_type": "markdown",
   "metadata": {},
   "source": [
    "And some of the other utilities from the selenium library"
   ]
  },
  {
   "cell_type": "code",
   "execution_count": 2,
   "metadata": {
    "collapsed": true
   },
   "outputs": [],
   "source": [
    "from selenium.webdriver.common.by import By\n",
    "from selenium.webdriver.support.ui import WebDriverWait\n",
    "from selenium.webdriver.support import expected_conditions as EC\n",
    "from selenium.webdriver.common.keys import Keys"
   ]
  },
  {
   "cell_type": "markdown",
   "metadata": {},
   "source": [
    "And just one more library 'time' to build in some delays."
   ]
  },
  {
   "cell_type": "code",
   "execution_count": 3,
   "metadata": {
    "collapsed": true
   },
   "outputs": [],
   "source": [
    "import time"
   ]
  },
  {
   "cell_type": "markdown",
   "metadata": {},
   "source": [
    "We first start a browser session with Firefox. You will see the Firefox browser pop up."
   ]
  },
  {
   "cell_type": "markdown",
   "metadata": {},
   "source": [
    "** Head ON**"
   ]
  },
  {
   "cell_type": "markdown",
   "metadata": {},
   "source": [
    "Usually one does this headless i.e. without the browser appearing, but to allow you to visualise what is happening, let's do one with the head on first."
   ]
  },
  {
   "cell_type": "code",
   "execution_count": 4,
   "metadata": {
    "collapsed": true
   },
   "outputs": [],
   "source": [
    "fieryfox = Firefox()"
   ]
  },
  {
   "cell_type": "markdown",
   "metadata": {},
   "source": [
    "Now, go where you want to go on the interwebs, and wait a while before entering the username and password."
   ]
  },
  {
   "cell_type": "code",
   "execution_count": 5,
   "metadata": {},
   "outputs": [
    {
     "name": "stdout",
     "output_type": "stream",
     "text": [
      "Login • Instagram\n"
     ]
    }
   ],
   "source": [
    "fieryfox.get('https://www.instagram.com/accounts/login/')\n",
    "print(fieryfox.title)\n",
    "login_wait = WebDriverWait(fieryfox, 10)\n",
    "elem = login_wait.until(EC.visibility_of_element_located((By.XPATH, \".//input[@name='username']\")))\n",
    "elem.send_keys(\"enter_your_username\")\n",
    "elem = login_wait.until(EC.visibility_of_element_located((By.XPATH, \".//input[@name='password']\")))\n",
    "elem.send_keys(\"enter_your_password\")"
   ]
  },
  {
   "cell_type": "markdown",
   "metadata": {},
   "source": [
    "Now click on the login button"
   ]
  },
  {
   "cell_type": "code",
   "execution_count": 6,
   "metadata": {
    "collapsed": true
   },
   "outputs": [],
   "source": [
    "fieryfox.find_element_by_xpath(\"//button[contains(.,'Log in')]\").click()"
   ]
  },
  {
   "cell_type": "markdown",
   "metadata": {},
   "source": [
    "Now you are on the main page after login. It's simple to do a quick check."
   ]
  },
  {
   "cell_type": "code",
   "execution_count": 7,
   "metadata": {},
   "outputs": [
    {
     "name": "stdout",
     "output_type": "stream",
     "text": [
      "Login • Instagram\n"
     ]
    }
   ],
   "source": [
    "print(fieryfox.title)"
   ]
  },
  {
   "cell_type": "markdown",
   "metadata": {},
   "source": [
    "Look for the search bar and search for anything"
   ]
  },
  {
   "cell_type": "code",
   "execution_count": 8,
   "metadata": {
    "collapsed": true
   },
   "outputs": [],
   "source": [
    "search = WebDriverWait(fieryfox, 10).until(\n",
    "    EC.visibility_of_element_located(\n",
    "        (By.XPATH, \"//input[@placeholder='Search']\")\n",
    "    )\n",
    ")\n",
    "search.clear()\n",
    "search.send_keys('#singapore')\n",
    "time.sleep(3)\n",
    "search.send_keys(Keys.ENTER)\n",
    "time.sleep(1)\n",
    "search.send_keys(Keys.ENTER)"
   ]
  },
  {
   "cell_type": "code",
   "execution_count": 9,
   "metadata": {},
   "outputs": [
    {
     "name": "stdout",
     "output_type": "stream",
     "text": [
      "Instagram\n"
     ]
    }
   ],
   "source": [
    "print(fieryfox.title)"
   ]
  },
  {
   "cell_type": "markdown",
   "metadata": {},
   "source": [
    "We click on an image by looking for the elements with a class name 'v1Nh3', and click on the first item we find.\n",
    "\n",
    "The image pops up, and we look for the button to like the image and click it."
   ]
  },
  {
   "cell_type": "code",
   "execution_count": 10,
   "metadata": {
    "collapsed": true
   },
   "outputs": [],
   "source": [
    "time.sleep(20)"
   ]
  },
  {
   "cell_type": "code",
   "execution_count": 14,
   "metadata": {
    "collapsed": true,
    "scrolled": true
   },
   "outputs": [],
   "source": [
    "image_links = fieryfox.find_elements_by_class_name('v1Nh3')\n",
    "image_links[0].click()"
   ]
  },
  {
   "cell_type": "code",
   "execution_count": 15,
   "metadata": {
    "collapsed": true
   },
   "outputs": [],
   "source": [
    "time.sleep(20)"
   ]
  },
  {
   "cell_type": "code",
   "execution_count": 16,
   "metadata": {
    "collapsed": true
   },
   "outputs": [],
   "source": [
    "like_element = fieryfox.find_element_by_xpath(\"//button/span[@aria-label='Like']\")\n",
    "like_element.click()"
   ]
  },
  {
   "cell_type": "markdown",
   "metadata": {},
   "source": [
    "** Headless **"
   ]
  },
  {
   "cell_type": "markdown",
   "metadata": {},
   "source": [
    "Now we do the exact same thing, but headless"
   ]
  },
  {
   "cell_type": "code",
   "execution_count": 21,
   "metadata": {},
   "outputs": [
    {
     "name": "stdout",
     "output_type": "stream",
     "text": [
      "Login • Instagram\n"
     ]
    }
   ],
   "source": [
    "from selenium.webdriver.firefox.options import Options\n",
    "\n",
    "opts = Options()\n",
    "opts.set_headless()\n",
    "assert opts.headless\n",
    "fieryfoxy = Firefox(options=opts)\n",
    "\n",
    "#navigate to the page and log in.\n",
    "fieryfoxy.get('https://www.instagram.com/accounts/login/')\n",
    "print(fieryfoxy.title)\n",
    "login_wait = WebDriverWait(fieryfoxy, 10)\n",
    "elem = login_wait.until(EC.visibility_of_element_located((By.XPATH, \".//input[@name='username']\")))\n",
    "elem.send_keys(\"enter_your_username\")\n",
    "elem = login_wait.until(EC.visibility_of_element_located((By.XPATH, \".//input[@name='password']\")))\n",
    "elem.send_keys(\"enter_your_password\")"
   ]
  },
  {
   "cell_type": "markdown",
   "metadata": {},
   "source": [
    "Now login, and check the page title"
   ]
  },
  {
   "cell_type": "code",
   "execution_count": null,
   "metadata": {
    "collapsed": true
   },
   "outputs": [],
   "source": [
    "fieryfoxy.find_element_by_xpath(\"//button[contains(.,'Log in')]\").click()"
   ]
  },
  {
   "cell_type": "code",
   "execution_count": 28,
   "metadata": {},
   "outputs": [
    {
     "name": "stdout",
     "output_type": "stream",
     "text": [
      "#singapore hashtag on Instagram • Photos and Videos\n"
     ]
    }
   ],
   "source": [
    "print(fieryfoxy.title)"
   ]
  },
  {
   "cell_type": "markdown",
   "metadata": {},
   "source": [
    "Now repeat the search, and check the title again. We won't repeat the part where we like the first post."
   ]
  },
  {
   "cell_type": "code",
   "execution_count": 29,
   "metadata": {
    "collapsed": true
   },
   "outputs": [],
   "source": [
    "search = WebDriverWait(fieryfoxy, 10).until(\n",
    "    EC.visibility_of_element_located(\n",
    "        (By.XPATH, \"//input[@placeholder='Search']\")\n",
    "    )\n",
    ")\n",
    "search.clear()\n",
    "search.send_keys('#singapore')\n",
    "time.sleep(3)\n",
    "search.send_keys(Keys.ENTER)\n",
    "time.sleep(1)\n",
    "search.send_keys(Keys.ENTER)"
   ]
  },
  {
   "cell_type": "code",
   "execution_count": 30,
   "metadata": {},
   "outputs": [
    {
     "name": "stdout",
     "output_type": "stream",
     "text": [
      "#singapore hashtag on Instagram • Photos and Videos\n"
     ]
    }
   ],
   "source": [
    "print(fieryfoxy.title)"
   ]
  }
 ],
 "metadata": {
  "kernelspec": {
   "display_name": "Python [default]",
   "language": "python",
   "name": "python3"
  },
  "language_info": {
   "codemirror_mode": {
    "name": "ipython",
    "version": 3
   },
   "file_extension": ".py",
   "mimetype": "text/x-python",
   "name": "python",
   "nbconvert_exporter": "python",
   "pygments_lexer": "ipython3",
   "version": "3.5.3"
  }
 },
 "nbformat": 4,
 "nbformat_minor": 2
}
